{
 "cells": [
  {
   "cell_type": "code",
   "execution_count": 9,
   "metadata": {},
   "outputs": [],
   "source": [
    "import numpy as np\n",
    "import pandas as pd \n",
    "from shapely.geometry import Point"
   ]
  },
  {
   "cell_type": "code",
   "execution_count": 10,
   "metadata": {},
   "outputs": [],
   "source": [
    "## customized library\n",
    "import ArcgisLib"
   ]
  },
  {
   "cell_type": "markdown",
   "metadata": {},
   "source": [
    "### Initializing Arcgis server"
   ]
  },
  {
   "cell_type": "code",
   "execution_count": 11,
   "metadata": {},
   "outputs": [],
   "source": [
    "path2Config = 'config.yaml'\n",
    "geoUtils = ArcgisLib.GeocodingUtils(path2Config)"
   ]
  },
  {
   "cell_type": "markdown",
   "metadata": {},
   "source": [
    "#### To geocode any address "
   ]
  },
  {
   "cell_type": "code",
   "execution_count": 12,
   "metadata": {},
   "outputs": [
    {
     "name": "stdout",
     "output_type": "stream",
     "text": [
      "POINT (-74.06842573951187 40.71289743130019)\n"
     ]
    }
   ],
   "source": [
    "print(geoUtils.addressToLatLong(\"1000 Garfield Ave, Jersey City, NJ\"))"
   ]
  },
  {
   "cell_type": "markdown",
   "metadata": {},
   "source": [
    "#### To geocode an entire column in a dataframe"
   ]
  },
  {
   "cell_type": "code",
   "execution_count": 13,
   "metadata": {},
   "outputs": [],
   "source": [
    "#set batch size of address to be converted \n",
    "# by default batch size is 100\n",
    "# the time delay between each batch is 30 seconds . The time delay is introduced to avoid overloading the server\n",
    "geoUtils.set_batch_size(50)"
   ]
  },
  {
   "cell_type": "code",
   "execution_count": 14,
   "metadata": {},
   "outputs": [],
   "source": [
    "tree_audit = pd.read_csv('sample_data.csv',sep=\";\")\n",
    "tree_audit['address'] = tree_audit['Parcel Address'].apply(lambda x: x.replace('.','') + ', jersey city, NJ')"
   ]
  },
  {
   "cell_type": "code",
   "execution_count": 15,
   "metadata": {},
   "outputs": [
    {
     "data": {
      "text/html": [
       "<div>\n",
       "<style scoped>\n",
       "    .dataframe tbody tr th:only-of-type {\n",
       "        vertical-align: middle;\n",
       "    }\n",
       "\n",
       "    .dataframe tbody tr th {\n",
       "        vertical-align: top;\n",
       "    }\n",
       "\n",
       "    .dataframe thead th {\n",
       "        text-align: right;\n",
       "    }\n",
       "</style>\n",
       "<table border=\"1\" class=\"dataframe\">\n",
       "  <thead>\n",
       "    <tr style=\"text-align: right;\">\n",
       "      <th></th>\n",
       "      <th>Tree ID</th>\n",
       "      <th>Genus</th>\n",
       "      <th>Species</th>\n",
       "      <th>Variety</th>\n",
       "      <th>Cultivar</th>\n",
       "      <th>Plant Month</th>\n",
       "      <th>Plant Year</th>\n",
       "      <th>BLOCK</th>\n",
       "      <th>LOT</th>\n",
       "      <th>Parcel Address</th>\n",
       "      <th>Month of Update</th>\n",
       "      <th>Year of Last Update</th>\n",
       "      <th>Plant Installer</th>\n",
       "      <th>address</th>\n",
       "      <th>coordinates</th>\n",
       "    </tr>\n",
       "  </thead>\n",
       "  <tbody>\n",
       "    <tr>\n",
       "      <th>0</th>\n",
       "      <td>468</td>\n",
       "      <td>Quercus</td>\n",
       "      <td>rubra</td>\n",
       "      <td>NaN</td>\n",
       "      <td>NaN</td>\n",
       "      <td>6</td>\n",
       "      <td>2016</td>\n",
       "      <td>18901</td>\n",
       "      <td>2</td>\n",
       "      <td>1000 GARFIELD AVE.</td>\n",
       "      <td>3</td>\n",
       "      <td>2019</td>\n",
       "      <td>Jersey City Redevelopment Agency</td>\n",
       "      <td>1000 GARFIELD AVE, jersey city, NJ</td>\n",
       "      <td>POINT (-74.06842573999995 40.71289743100004)</td>\n",
       "    </tr>\n",
       "    <tr>\n",
       "      <th>1</th>\n",
       "      <td>495</td>\n",
       "      <td>Quercus</td>\n",
       "      <td>rubra</td>\n",
       "      <td>NaN</td>\n",
       "      <td>NaN</td>\n",
       "      <td>6</td>\n",
       "      <td>2016</td>\n",
       "      <td>19803</td>\n",
       "      <td>3</td>\n",
       "      <td>75 WOODWARD ST.</td>\n",
       "      <td>3</td>\n",
       "      <td>2019</td>\n",
       "      <td>Jersey City Redevelopment Agency</td>\n",
       "      <td>75 WOODWARD ST, jersey city, NJ</td>\n",
       "      <td>POINT (-74.06764539399995 40.71092214500004)</td>\n",
       "    </tr>\n",
       "    <tr>\n",
       "      <th>2</th>\n",
       "      <td>194</td>\n",
       "      <td>Gleditsia</td>\n",
       "      <td>triacanthos</td>\n",
       "      <td>NaN</td>\n",
       "      <td>NaN</td>\n",
       "      <td>4</td>\n",
       "      <td>2017</td>\n",
       "      <td>11404</td>\n",
       "      <td>18</td>\n",
       "      <td>126 NEWARK AVE.</td>\n",
       "      <td>3</td>\n",
       "      <td>2019</td>\n",
       "      <td>Jersey City Division of Architecture</td>\n",
       "      <td>126 NEWARK AVE, jersey city, NJ</td>\n",
       "      <td>POINT (-74.04308811399994 40.72012577100003)</td>\n",
       "    </tr>\n",
       "    <tr>\n",
       "      <th>3</th>\n",
       "      <td>177</td>\n",
       "      <td>Cornus</td>\n",
       "      <td>kousa</td>\n",
       "      <td>NaN</td>\n",
       "      <td>NaN</td>\n",
       "      <td>4</td>\n",
       "      <td>2017</td>\n",
       "      <td>11603</td>\n",
       "      <td>41</td>\n",
       "      <td>108 FIRST ST.</td>\n",
       "      <td>3</td>\n",
       "      <td>2019</td>\n",
       "      <td>Jersey City Division of Architecture</td>\n",
       "      <td>108 FIRST ST, jersey city, NJ</td>\n",
       "      <td>POINT (-74.03740369699995 40.72115242000007)</td>\n",
       "    </tr>\n",
       "    <tr>\n",
       "      <th>4</th>\n",
       "      <td>179</td>\n",
       "      <td>Cornus</td>\n",
       "      <td>kousa</td>\n",
       "      <td>NaN</td>\n",
       "      <td>NaN</td>\n",
       "      <td>4</td>\n",
       "      <td>2017</td>\n",
       "      <td>11603</td>\n",
       "      <td>41</td>\n",
       "      <td>108 FIRST ST.</td>\n",
       "      <td>3</td>\n",
       "      <td>2019</td>\n",
       "      <td>Jersey City Division of Architecture</td>\n",
       "      <td>108 FIRST ST, jersey city, NJ</td>\n",
       "      <td>POINT (-74.03740369699995 40.72115242000007)</td>\n",
       "    </tr>\n",
       "  </tbody>\n",
       "</table>\n",
       "</div>"
      ],
      "text/plain": [
       "   Tree ID      Genus      Species Variety Cultivar  Plant Month  Plant Year  \\\n",
       "0      468    Quercus        rubra     NaN      NaN            6        2016   \n",
       "1      495    Quercus        rubra     NaN      NaN            6        2016   \n",
       "2      194  Gleditsia  triacanthos     NaN      NaN            4        2017   \n",
       "3      177     Cornus        kousa     NaN      NaN            4        2017   \n",
       "4      179     Cornus        kousa     NaN      NaN            4        2017   \n",
       "\n",
       "   BLOCK  LOT      Parcel Address  Month of Update  Year of Last Update  \\\n",
       "0  18901    2  1000 GARFIELD AVE.                3                 2019   \n",
       "1  19803    3     75 WOODWARD ST.                3                 2019   \n",
       "2  11404   18     126 NEWARK AVE.                3                 2019   \n",
       "3  11603   41       108 FIRST ST.                3                 2019   \n",
       "4  11603   41       108 FIRST ST.                3                 2019   \n",
       "\n",
       "                        Plant Installer                             address  \\\n",
       "0      Jersey City Redevelopment Agency  1000 GARFIELD AVE, jersey city, NJ   \n",
       "1      Jersey City Redevelopment Agency     75 WOODWARD ST, jersey city, NJ   \n",
       "2  Jersey City Division of Architecture     126 NEWARK AVE, jersey city, NJ   \n",
       "3  Jersey City Division of Architecture       108 FIRST ST, jersey city, NJ   \n",
       "4  Jersey City Division of Architecture       108 FIRST ST, jersey city, NJ   \n",
       "\n",
       "                                    coordinates  \n",
       "0  POINT (-74.06842573999995 40.71289743100004)  \n",
       "1  POINT (-74.06764539399995 40.71092214500004)  \n",
       "2  POINT (-74.04308811399994 40.72012577100003)  \n",
       "3  POINT (-74.03740369699995 40.72115242000007)  \n",
       "4  POINT (-74.03740369699995 40.72115242000007)  "
      ]
     },
     "execution_count": 15,
     "metadata": {},
     "output_type": "execute_result"
    }
   ],
   "source": [
    "tree_audit['coordinates'] = geoUtils.addressColToLatLong(tree_audit['address'])\n",
    "tree_audit.head()"
   ]
  },
  {
   "cell_type": "markdown",
   "metadata": {},
   "source": [
    "### calculating road distance between two points "
   ]
  },
  {
   "cell_type": "code",
   "execution_count": 16,
   "metadata": {},
   "outputs": [],
   "source": [
    "#Generating new API token for your registered application\n",
    "geoUtils.set_api_access_token()"
   ]
  },
  {
   "cell_type": "code",
   "execution_count": 17,
   "metadata": {},
   "outputs": [
    {
     "data": {
      "text/plain": [
       "7.110991479907647"
      ]
     },
     "execution_count": 17,
     "metadata": {},
     "output_type": "execute_result"
    }
   ],
   "source": [
    "#calculating the road distance between two points \n",
    "geoUtils.road_distance(Point(-118.243529,34.053879),Point(-118.273939,34.123480))"
   ]
  },
  {
   "cell_type": "code",
   "execution_count": null,
   "metadata": {},
   "outputs": [],
   "source": []
  }
 ],
 "metadata": {
  "kernelspec": {
   "display_name": "Python 3",
   "language": "python",
   "name": "python3"
  },
  "language_info": {
   "codemirror_mode": {
    "name": "ipython",
    "version": 3
   },
   "file_extension": ".py",
   "mimetype": "text/x-python",
   "name": "python",
   "nbconvert_exporter": "python",
   "pygments_lexer": "ipython3",
   "version": "3.7.5"
  }
 },
 "nbformat": 4,
 "nbformat_minor": 2
}
